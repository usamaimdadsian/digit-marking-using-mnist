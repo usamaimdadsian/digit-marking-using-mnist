{
  "nbformat": 4,
  "nbformat_minor": 0,
  "metadata": {
    "colab": {
      "name": "ANN.ipynb",
      "provenance": []
    },
    "kernelspec": {
      "name": "python3",
      "display_name": "Python 3"
    },
    "language_info": {
      "name": "python"
    }
  },
  "cells": [
    {
      "cell_type": "code",
      "metadata": {
        "id": "Mg4QFHCZpv5Q"
      },
      "source": [
        "#install required libraries\n",
        "import pandas as pd\n",
        "import numpy as np#data visualization packages\n",
        "import matplotlib.pyplot as plt#keras packages\n",
        "import keras\n",
        "from keras.datasets import mnist\n",
        "from keras.models import Sequential\n",
        "from keras.layers import Convolution2D\n",
        "from keras.layers import MaxPooling2D\n",
        "from keras.layers import Flatten\n",
        "from keras.layers import Dense\n",
        "from keras.wrappers.scikit_learn import KerasClassifier\n",
        "from keras.layers import Dropout#model evaluation packages\n",
        "from sklearn.metrics import f1_score, roc_auc_score, log_loss\n",
        "from sklearn.model_selection import cross_val_score, cross_validate"
      ],
      "execution_count": 3,
      "outputs": []
    },
    {
      "cell_type": "code",
      "metadata": {
        "colab": {
          "base_uri": "https://localhost:8080/"
        },
        "id": "yEXqIX85qk99",
        "outputId": "51a6005e-c143-4c9b-852f-cff20dc4547d"
      },
      "source": [
        "#read mnist dataset\n",
        "(X_train, y_train), (X_test, y_test) = mnist.load_data()\n",
        "print(X_train.shape, y_train.shape, X_test.shape, y_test.shape)"
      ],
      "execution_count": 4,
      "outputs": [
        {
          "output_type": "stream",
          "text": [
            "Downloading data from https://storage.googleapis.com/tensorflow/tf-keras-datasets/mnist.npz\n",
            "11493376/11490434 [==============================] - 0s 0us/step\n",
            "11501568/11490434 [==============================] - 0s 0us/step\n",
            "(60000, 28, 28) (60000,) (10000, 28, 28) (10000,)\n"
          ],
          "name": "stdout"
        }
      ]
    },
    {
      "cell_type": "code",
      "metadata": {
        "colab": {
          "base_uri": "https://localhost:8080/"
        },
        "id": "ax9_BnftqzrA",
        "outputId": "33fd104c-ebec-4030-e80e-cd32fe281238"
      },
      "source": [
        "#reshape data from 3-D to 2-D array\n",
        "X_train = X_train.reshape(60000, 784)\n",
        "X_test = X_test.reshape(10000, 784)#feature scaling\n",
        "from sklearn.preprocessing import MinMaxScaler\n",
        "minmax = MinMaxScaler()#fit and transform training dataset\n",
        "X_train = minmax.fit_transform(X_train)#transform testing dataset\n",
        "X_test = minmax.transform(X_test)\n",
        "print('Number of unique classes: ', len(np.unique(y_train)))\n",
        "print('Classes: ', np.unique(y_train))"
      ],
      "execution_count": 31,
      "outputs": [
        {
          "output_type": "stream",
          "text": [
            "Number of unique classes:  10\n",
            "Classes:  [0 1 2 3 4 5 6 7 8 9]\n"
          ],
          "name": "stdout"
        }
      ]
    },
    {
      "cell_type": "code",
      "metadata": {
        "colab": {
          "base_uri": "https://localhost:8080/",
          "height": 336
        },
        "id": "jNNyoScdr2Jv",
        "outputId": "93502f1a-015c-4660-8a92-fc4ba5d700c6"
      },
      "source": [
        "fig, axes = plt.subplots(nrows=2, ncols=5,figsize=(15,5))          \n",
        "ax = axes.ravel()\n",
        "for i in range(10):\n",
        "    ax[i].imshow(X_train[i].reshape(28,28))\n",
        "    ax[i].title.set_text('Class: ' + str(y_train[i]))              \n",
        "plt.subplots_adjust(hspace=0.5)                                    \n",
        "plt.show()"
      ],
      "execution_count": 7,
      "outputs": [
        {
          "output_type": "display_data",
          "data": {
            "image/png": "[encoded data removed]",
            "text/plain": [
              "<Figure size 1080x360 with 10 Axes>"
            ]
          },
          "metadata": {
            "tags": [],
            "needs_background": "light"
          }
        }
      ]
    },
    {
      "cell_type": "code",
      "metadata": {
        "colab": {
          "base_uri": "https://localhost:8080/"
        },
        "id": "dI14x71sr5FQ",
        "outputId": "1ad7031e-e901-4ca3-9e13-5bca93bec293"
      },
      "source": [
        "#initializing CNN model\n",
        "classifier_e25 = Sequential()#add 1st hidden layer\n",
        "classifier_e25.add(Dense(input_dim = X_train.shape[1], units = 256, kernel_initializer='uniform', activation='relu'))#add output layer\n",
        "classifier_e25.add(Dense(units = 10, kernel_initializer='uniform', activation='softmax'))#compile the neural network\n",
        "classifier_e25.compile(optimizer='adam', loss='sparse_categorical_crossentropy', metrics=['accuracy'])#model summary\n",
        "classifier_e25.summary()"
      ],
      "execution_count": 8,
      "outputs": [
        {
          "output_type": "stream",
          "text": [
            "Model: \"sequential\"\n",
            "_________________________________________________________________\n",
            "Layer (type)                 Output Shape              Param #   \n",
            "=================================================================\n",
            "dense (Dense)                (None, 256)               200960    \n",
            "_________________________________________________________________\n",
            "dense_1 (Dense)              (None, 10)                2570      \n",
            "=================================================================\n",
            "Total params: 203,530\n",
            "Trainable params: 203,530\n",
            "Non-trainable params: 0\n",
            "_________________________________________________________________\n"
          ],
          "name": "stdout"
        }
      ]
    },
    {
      "cell_type": "code",
      "metadata": {
        "id": "ug5zlJX8sGXY"
      },
      "source": [
        "#fit training dataset into the model\n",
        "classifier_e25_fit = classifier_e25.fit(X_train, y_train, epochs=25, verbose=0)"
      ],
      "execution_count": 9,
      "outputs": []
    },
    {
      "cell_type": "code",
      "metadata": {
        "colab": {
          "base_uri": "https://localhost:8080/",
          "height": 174
        },
        "id": "lWYPqr8ktwwF",
        "outputId": "21ba484f-d265-4833-abbb-f7f8378e8b64"
      },
      "source": [
        "#evaluate the model for testing dataset\n",
        "test_loss_e25 = classifier_e25.evaluate(X_test, y_test, verbose=0)#calculate evaluation parameters\n",
        "f1_e25 = f1_score(y_test, classifier_e25.predict_classes(X_test), average='micro')\n",
        "roc_e25 = roc_auc_score(y_test, classifier_e25.predict_proba(X_test), multi_class='ovo')#create evaluation dataframe\n",
        "stats_e25 = pd.DataFrame({'Test accuracy' :  round(test_loss_e25[1]*100,3),\n",
        "                      'F1 score'      : round(f1_e25,3),\n",
        "                      'ROC AUC score' : round(roc_e25,3),\n",
        "                      'Total Loss'    : round(test_loss_e25[0],3)}, index=[0])#print evaluation dataframe\n",
        "display(stats_e25)"
      ],
      "execution_count": 10,
      "outputs": [
        {
          "output_type": "stream",
          "text": [
            "/usr/local/lib/python3.7/dist-packages/keras/engine/sequential.py:450: UserWarning: `model.predict_classes()` is deprecated and will be removed after 2021-01-01. Please use instead:* `np.argmax(model.predict(x), axis=-1)`,   if your model does multi-class classification   (e.g. if it uses a `softmax` last-layer activation).* `(model.predict(x) > 0.5).astype(\"int32\")`,   if your model does binary classification   (e.g. if it uses a `sigmoid` last-layer activation).\n",
            "  warnings.warn('`model.predict_classes()` is deprecated and '\n",
            "/usr/local/lib/python3.7/dist-packages/keras/engine/sequential.py:425: UserWarning: `model.predict_proba()` is deprecated and will be removed after 2021-01-01. Please use `model.predict()` instead.\n",
            "  warnings.warn('`model.predict_proba()` is deprecated and '\n"
          ],
          "name": "stderr"
        },
        {
          "output_type": "display_data",
          "data": {
            "text/html": [
              "<div>\n",
              "<style scoped>\n",
              "    .dataframe tbody tr th:only-of-type {\n",
              "        vertical-align: middle;\n",
              "    }\n",
              "\n",
              "    .dataframe tbody tr th {\n",
              "        vertical-align: top;\n",
              "    }\n",
              "\n",
              "    .dataframe thead th {\n",
              "        text-align: right;\n",
              "    }\n",
              "</style>\n",
              "<table border=\"1\" class=\"dataframe\">\n",
              "  <thead>\n",
              "    <tr style=\"text-align: right;\">\n",
              "      <th></th>\n",
              "      <th>Test accuracy</th>\n",
              "      <th>F1 score</th>\n",
              "      <th>ROC AUC score</th>\n",
              "      <th>Total Loss</th>\n",
              "    </tr>\n",
              "  </thead>\n",
              "  <tbody>\n",
              "    <tr>\n",
              "      <th>0</th>\n",
              "      <td>97.99</td>\n",
              "      <td>0.98</td>\n",
              "      <td>1.0</td>\n",
              "      <td>0.12</td>\n",
              "    </tr>\n",
              "  </tbody>\n",
              "</table>\n",
              "</div>"
            ],
            "text/plain": [
              "   Test accuracy  F1 score  ROC AUC score  Total Loss\n",
              "0          97.99      0.98            1.0        0.12"
            ]
          },
          "metadata": {
            "tags": []
          }
        }
      ]
    },
    {
      "cell_type": "code",
      "metadata": {
        "colab": {
          "base_uri": "https://localhost:8080/"
        },
        "id": "XMwZaPEOwabS",
        "outputId": "90cbe4e5-2b02-43a5-fbfc-0442ec94f752"
      },
      "source": [
        "confusion_matrix(y_test, np.argmax(classifier_e25.predict(X_test),axis=1))"
      ],
      "execution_count": 32,
      "outputs": [
        {
          "output_type": "execute_result",
          "data": {
            "text/plain": [
              "array([[ 972,    1,    1,    1,    0,    0,    2,    0,    1,    2],\n",
              "       [   0, 1126,    2,    1,    0,    2,    1,    1,    2,    0],\n",
              "       [   0,    0, 1019,    2,    0,    0,    1,    6,    4,    0],\n",
              "       [   0,    0,    8,  987,    0,    4,    0,    4,    5,    2],\n",
              "       [   1,    0,    5,    0,  948,    0,    4,    3,    1,   20],\n",
              "       [   2,    0,    0,    7,    2,  871,    4,    0,    5,    1],\n",
              "       [   5,    3,    3,    1,    3,    7,  936,    0,    0,    0],\n",
              "       [   1,    1,    9,    2,    1,    0,    0, 1006,    2,    6],\n",
              "       [   8,    0,    1,    5,    0,    8,    0,    3,  945,    4],\n",
              "       [   1,    2,    1,    3,    2,    3,    0,    6,    2,  989]])"
            ]
          },
          "metadata": {
            "tags": []
          },
          "execution_count": 32
        }
      ]
    },
    {
      "cell_type": "code",
      "metadata": {
        "colab": {
          "base_uri": "https://localhost:8080/"
        },
        "id": "G_m68ZYUt6Gv",
        "outputId": "b881b558-767f-4c0d-ce82-578347cc1e57"
      },
      "source": [
        "from keras.models import load_model\n",
        "from sklearn.metrics import confusion_matrix,classification_report\n",
        "import numpy as np\n",
        "\n",
        "confusion = classification_report(y_test, np.argmax(classifier_e25.predict(X_test),axis=1))\n",
        "print(confusion)"
      ],
      "execution_count": 34,
      "outputs": [
        {
          "output_type": "stream",
          "text": [
            "              precision    recall  f1-score   support\n",
            "\n",
            "           0       0.98      0.99      0.99       980\n",
            "           1       0.99      0.99      0.99      1135\n",
            "           2       0.97      0.99      0.98      1032\n",
            "           3       0.98      0.98      0.98      1010\n",
            "           4       0.99      0.97      0.98       982\n",
            "           5       0.97      0.98      0.97       892\n",
            "           6       0.99      0.98      0.98       958\n",
            "           7       0.98      0.98      0.98      1028\n",
            "           8       0.98      0.97      0.97       974\n",
            "           9       0.97      0.98      0.97      1009\n",
            "\n",
            "    accuracy                           0.98     10000\n",
            "   macro avg       0.98      0.98      0.98     10000\n",
            "weighted avg       0.98      0.98      0.98     10000\n",
            "\n"
          ],
          "name": "stdout"
        }
      ]
    },
    {
      "cell_type": "code",
      "metadata": {
        "id": "H2FQT9pwvFvG"
      },
      "source": [
        "classifier_e25.save('ann.h5')"
      ],
      "execution_count": 19,
      "outputs": []
    }
  ]
}