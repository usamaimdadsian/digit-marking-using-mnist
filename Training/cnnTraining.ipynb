{
  "nbformat": 4,
  "nbformat_minor": 2,
  "metadata": {
    "colab": {
      "name": "digitAnalysis.ipynb",
      "provenance": [],
      "collapsed_sections": []
    },
    "kernelspec": {
      "name": "python3",
      "display_name": "Python 3.8.10 64-bit"
    },
    "language_info": {
      "name": "python",
      "version": "3.8.10",
      "mimetype": "text/x-python",
      "codemirror_mode": {
        "name": "ipython",
        "version": 3
      },
      "pygments_lexer": "ipython3",
      "nbconvert_exporter": "python",
      "file_extension": ".py"
    },
    "accelerator": "GPU",
    "interpreter": {
      "hash": "31f2aee4e71d21fbe5cf8b01ff0e069b9275f58929596ceb00d14d90e3e16cd6"
    }
  },
  "cells": [
    {
      "cell_type": "code",
      "execution_count": 1,
      "source": [
        "from keras.datasets import mnist\n",
        "from tensorflow.keras.utils import to_categorical\n",
        "from keras.models import Sequential,load_model\n",
        "from keras.layers import Conv2D\n",
        "from keras.layers import MaxPooling2D\n",
        "from keras.layers import Dense\n",
        "from keras.layers import Flatten\n",
        "from keras.optimizers import SGD\n",
        "from sklearn.metrics import classification_report, confusion_matrix"
      ],
      "outputs": [],
      "metadata": {
        "id": "Es0i722kWEUq"
      }
    },
    {
      "cell_type": "code",
      "execution_count": null,
      "source": [
        "# load train and test dataset\n",
        "def load_dataset():\n",
        "\t# load dataset\n",
        "\t(trainX, trainY), (testX, testY) = mnist.load_data()\n",
        "\t# reshape dataset to have a single channel\n",
        "\ttrainX = trainX.reshape((trainX.shape[0], 28, 28, 1))\n",
        "\ttestX = testX.reshape((testX.shape[0], 28, 28, 1))\n",
        "\t# one hot encode target values\n",
        "\ttrainY = to_categorical(trainY)\n",
        "\ttestY = to_categorical(testY)\n",
        "\treturn trainX, trainY, testX, testY"
      ],
      "outputs": [],
      "metadata": {
        "id": "ParxEFQ0WT8E"
      }
    },
    {
      "cell_type": "code",
      "execution_count": null,
      "source": [
        "# scale pixels\n",
        "def prep_pixels(train, test):\n",
        "\t# convert from integers to floats\n",
        "\ttrain_norm = train.astype('float32')\n",
        "\ttest_norm = test.astype('float32')\n",
        "\t# normalize to range 0-1\n",
        "\ttrain_norm = train_norm / 255.0\n",
        "\ttest_norm = test_norm / 255.0\n",
        "\t# return normalized images\n",
        "\treturn train_norm, test_norm"
      ],
      "outputs": [],
      "metadata": {
        "id": "oEcX9ccVWVig"
      }
    },
    {
      "cell_type": "code",
      "execution_count": null,
      "source": [
        "# define cnn model\n",
        "def define_model():\n",
        "\tmodel = Sequential()\n",
        "\tmodel.add(Conv2D(32, (3, 3), activation='relu', kernel_initializer='he_uniform', input_shape=(28, 28, 1)))\n",
        "\tmodel.add(MaxPooling2D((2, 2)))\n",
        "\tmodel.add(Conv2D(64, (3, 3), activation='relu', kernel_initializer='he_uniform'))\n",
        "\tmodel.add(Conv2D(64, (3, 3), activation='relu', kernel_initializer='he_uniform'))\n",
        "\tmodel.add(MaxPooling2D((2, 2)))\n",
        "\tmodel.add(Flatten())\n",
        "\tmodel.add(Dense(100, activation='relu', kernel_initializer='he_uniform'))\n",
        "\tmodel.add(Dense(10, activation='softmax'))\n",
        "\t# compile model\n",
        "\topt = SGD(lr=0.01, momentum=0.9)\n",
        "\tmodel.compile(optimizer=opt, loss='categorical_crossentropy', metrics=['accuracy'])\n",
        "\treturn model"
      ],
      "outputs": [],
      "metadata": {
        "id": "UrNLSzXwWcTI"
      }
    },
    {
      "cell_type": "code",
      "execution_count": null,
      "source": [
        "# run the test harness for evaluating a model\n",
        "def run_test_harness():\n",
        "\t# load dataset\n",
        "\ttrainX, trainY, testX, testY = load_dataset()\n",
        "\t# prepare pixel data\n",
        "\ttrainX, testX = prep_pixels(trainX, testX)\n",
        "\t# define model\n",
        "\tmodel = define_model()\n",
        "\t# fit model\n",
        "\tmodel.fit(trainX, trainY, epochs=10, batch_size=32, verbose=0)\n",
        "\t# save model\n",
        "\tmodel.save('final_model.h5')\n",
        "\n",
        "# entry point, run the test harness\n",
        "run_test_harness()"
      ],
      "outputs": [
        {
          "output_type": "stream",
          "name": "stdout",
          "text": [
            "Downloading data from https://storage.googleapis.com/tensorflow/tf-keras-datasets/mnist.npz\n",
            "11493376/11490434 [==============================] - 0s 0us/step\n",
            "11501568/11490434 [==============================] - 0s 0us/step\n"
          ]
        },
        {
          "output_type": "stream",
          "name": "stderr",
          "text": [
            "/usr/local/lib/python3.7/dist-packages/tensorflow/python/keras/optimizer_v2/optimizer_v2.py:375: UserWarning: The `lr` argument is deprecated, use `learning_rate` instead.\n",
            "  \"The `lr` argument is deprecated, use `learning_rate` instead.\")\n"
          ]
        }
      ],
      "metadata": {
        "colab": {
          "base_uri": "https://localhost:8080/"
        },
        "id": "JEWqmBGjVUa5",
        "outputId": "889278d1-325e-4db2-da29-4eee7564e79e"
      }
    },
    {
      "cell_type": "markdown",
      "source": [
        "#Evaluation"
      ],
      "metadata": {
        "id": "SPwcBGw5Xg_g"
      }
    },
    {
      "cell_type": "code",
      "execution_count": null,
      "source": [
        "from sklearn.metrics import confusion_matrix\n",
        "import numpy as np\n",
        "# run the test harness for evaluating a model\n",
        "def run_evaluate():\n",
        "\t# load dataset\n",
        "\ttrainX, trainY, testX, testY = load_dataset()\n",
        "\t# prepare pixel data\n",
        "\ttrainX, testX = prep_pixels(trainX, testX)\n",
        "\t# load model\n",
        "\tmodel = load_model(\"/content/drive/MyDrive/final_model.h5\")\n",
        "  print('hello')\n",
        "\n",
        "  confusion = confusion_matrix(testY, np.argmax(model.predict(testX),axis=1))\n",
        "\n",
        "  print(confusion)\n",
        "\t# evaluate model on test dataset\n",
        "\t# _, acc = model.evaluate(testX, testY, verbose=0)\n",
        "\t# print('> %.3f' % (acc * 100.0))\n",
        "\n",
        "# entry point, run the test harness\n",
        "run_evaluate()"
      ],
      "outputs": [],
      "metadata": {
        "id": "7N5EKUK7Xj4g"
      }
    },
    {
      "cell_type": "markdown",
      "source": [
        "#Confusion Matrix"
      ],
      "metadata": {
        "id": "cXXNgzODFYre"
      }
    },
    {
      "cell_type": "code",
      "execution_count": null,
      "source": [
        "from keras.models import load_model\n",
        "from sklearn.metrics import confusion_matrix,classification_report\n",
        "import numpy as np\n",
        "\n",
        "trainX, trainY, testX, testY = load_dataset()\n",
        "# prepare pixel data\n",
        "trainX, testX = prep_pixels(trainX, testX)\n",
        "# load model\n",
        "model = load_model(\"/content/drive/MyDrive/final_model.h5\")\n",
        "\n",
        "confusion = classification_report(np.argmax(testY, axis=1), np.argmax(model.predict(testX),axis=1))\n",
        "\n",
        "print(confusion)"
      ],
      "outputs": [
        {
          "output_type": "stream",
          "name": "stdout",
          "text": [
            "hello\n",
            "              precision    recall  f1-score   support\n",
            "\n",
            "           0       0.99      1.00      0.99       980\n",
            "           1       1.00      1.00      1.00      1135\n",
            "           2       1.00      1.00      1.00      1032\n",
            "           3       1.00      0.99      1.00      1010\n",
            "           4       0.99      0.99      0.99       982\n",
            "           5       0.99      0.99      0.99       892\n",
            "           6       0.99      0.99      0.99       958\n",
            "           7       0.99      0.99      0.99      1028\n",
            "           8       0.99      0.99      0.99       974\n",
            "           9       0.99      0.99      0.99      1009\n",
            "\n",
            "    accuracy                           0.99     10000\n",
            "   macro avg       0.99      0.99      0.99     10000\n",
            "weighted avg       0.99      0.99      0.99     10000\n",
            "\n"
          ]
        }
      ],
      "metadata": {
        "colab": {
          "base_uri": "https://localhost:8080/"
        },
        "id": "x3f2MG2N5ufE",
        "outputId": "31dd358d-7109-4862-9783-cd9b511981dc"
      }
    },
    {
      "cell_type": "code",
      "execution_count": null,
      "source": [
        "from keras.models import load_model"
      ],
      "outputs": [],
      "metadata": {
        "id": "0vjgHoKIQMRa"
      }
    },
    {
      "cell_type": "code",
      "execution_count": null,
      "source": [
        "import cv2\n",
        "import numpy as np\n",
        "from skimage import morphology\n",
        "import matplotlib.pyplot as plt\n",
        "\n",
        "\n",
        "plt.rcParams['figure.figsize'] = [12, 8]\n",
        "plt.rcParams['figure.dpi'] = 100"
      ],
      "outputs": [],
      "metadata": {
        "id": "qVW2rHzTRCRt"
      }
    },
    {
      "cell_type": "code",
      "execution_count": null,
      "source": [
        "def cropImage(timg,tol=0):\n",
        "    # Convert to binary\n",
        "    # (thresh, timg) = cv2.threshold(timg, 127, 255, cv2.THRESH_BINARY)\n",
        "    #  Crop only ones from binary\n",
        "    mask = timg>tol\n",
        "    timg = timg[np.ix_(mask.any(1),mask.any(0))]\n",
        "    # Add padding to the image\n",
        "    timg = np.pad(timg, pad_width=round(timg.shape[0]*0.1),mode='constant',constant_values = 0)\n",
        "    timg = timg.astype(np.uint8)\n",
        "    # Resize the image to 200*200 pixels\n",
        "    timg = cv2.resize(timg, (28,28), interpolation = cv2.INTER_AREA)\n",
        "    timg[timg > 0] = 255\n",
        "    # timg = cv2.blur(timg,(25,25))\n",
        "    return timg\n",
        "\n",
        "def processImage(img):\n",
        "    img = cv2.cvtColor(img,cv2.COLOR_BGR2RGB)\n",
        "    rimg,gimg,bimg = cv2.split(img)\n",
        "    hsvimg = cv2.cvtColor(img,cv2.COLOR_RGB2HSV)\n",
        "    h,s,v = cv2.split(hsvimg)\n",
        "\n",
        "    u_red = np.array([255,100,100])\n",
        "    l_red = np.array([100,0,0])\n",
        "    mask = cv2.inRange(img,l_red,u_red)\n",
        "    blur = cv2.medianBlur(mask,3)\n",
        "\n",
        "    kernel = cv2.getStructuringElement(cv2.MORPH_CROSS,(15,15))\n",
        "    dilation = cv2.dilate(blur,kernel,1)\n",
        "\n",
        "    # rmimg = morphology.remove_small_objects(dilation.astype(bool),min_size=250,connectivity=2).astype(np.uint8)*255\n",
        "    # arr = np.nonzero(rmimg)\n",
        "    # l_range = arr[1].min()\n",
        "    # h_range = arr[1].max()\n",
        "\n",
        "    arr = np.nonzero(dilation)\n",
        "    unique,counts = np.unique(arr[1],return_counts=True)\n",
        "    center = unique[np.argmax(counts == counts.max())]\n",
        "    l_range = center - 50\n",
        "    h_range = center + 50\n",
        "\n",
        "    blur[:,:] = 0\n",
        "    blur[:,l_range:h_range] = 255\n",
        "    s[s>50]= 255\n",
        "    outimg = cv2.bitwise_and(blur,s)\n",
        "    outimg[outimg< 127] = 0\n",
        "\n",
        "    kernel = cv2.getStructuringElement(cv2.MORPH_RECT,(5,5))\n",
        "    outimg = cv2.dilate(outimg,kernel,1)\n",
        "\n",
        "    return outimg"
      ],
      "outputs": [],
      "metadata": {
        "id": "C8T8TiB0RDRB"
      }
    },
    {
      "cell_type": "code",
      "execution_count": null,
      "source": [
        "img = cv2.imread('0.jpeg')\n",
        "pimg = processImage(img)"
      ],
      "outputs": [],
      "metadata": {
        "id": "6pvXBF7FRKal"
      }
    },
    {
      "cell_type": "code",
      "execution_count": null,
      "source": [
        "# img,labels,stats,centroids = cv2.connectedComponentsWithStats(img)\n",
        "# labels = cv2.connectedComponentsWithStats(img)\n",
        "\n",
        "_, thresh = cv2.threshold(pimg,0,255,cv2.THRESH_BINARY+cv2.THRESH_OTSU)\n",
        "connectivity = 8  # You need to choose 4 or 8 for connectivity type\n",
        "num_labels, labels, stats, centroids = cv2.connectedComponentsWithStats(thresh , connectivity , cv2.CV_32S)\n",
        "oneLabel = np.zeros_like(labels)\n",
        "oneLabel[labels==1]=255\n",
        "# cropImage(oneLabel)\n",
        "\n",
        "e_data = {}\n",
        "for i in range(1,len(centroids)):\n",
        "    oneLabel = np.zeros_like(labels)\n",
        "    oneLabel[labels==i]=255\n",
        "\n",
        "    obj = lambda: None\n",
        "    obj.img = cropImage(oneLabel)\n",
        "    obj.center = centroids[i]\n",
        "    e_data[i] = obj\n"
      ],
      "outputs": [],
      "metadata": {
        "id": "-VSlHpQ2RM0j"
      }
    },
    {
      "cell_type": "code",
      "execution_count": null,
      "source": [
        "plt.imshow(e_data[17].img,'gray')"
      ],
      "outputs": [
        {
          "output_type": "execute_result",
          "data": {
            "text/plain": [
              "<matplotlib.image.AxesImage at 0x7f8ee508b810>"
            ]
          },
          "metadata": {
            "tags": []
          },
          "execution_count": 16
        },
        {
          "output_type": "display_data",
          "data": {
            "image/png": "[encoded data removed]",
            "text/plain": [
              "<Figure size 1200x800 with 1 Axes>"
            ]
          },
          "metadata": {
            "tags": [],
            "needs_background": "light"
          }
        }
      ],
      "metadata": {
        "colab": {
          "base_uri": "https://localhost:8080/",
          "height": 682
        },
        "id": "WVjpop_hkGhP",
        "outputId": "af5f3d91-280c-49df-da6e-8cb25df430dd"
      }
    },
    {
      "cell_type": "code",
      "execution_count": null,
      "source": [
        "classifier = load_model(\"/content/final_model.h5\")\n"
      ],
      "outputs": [],
      "metadata": {
        "id": "GReE7anSTkMC"
      }
    },
    {
      "cell_type": "code",
      "execution_count": null,
      "source": [
        "# timg = np.expand_dims(e_data[1].img,axis=0)\n",
        "timg = e_data[17].img.reshape((28,28,1))\n",
        "t2img = np.expand_dims(timg,axis=0)\n",
        "pred = np.argmax(classifier.predict(t2img),axis=-1)\n",
        "print(pred[0])\n",
        "# num_arr = [0,1,2,3,4,5,6,7,8,9]\n",
        "# for i in num_arr:\n",
        "#   pred[pred]\n",
        "\n",
        "# print(t)\n",
        "# print"
      ],
      "outputs": [
        {
          "output_type": "stream",
          "name": "stdout",
          "text": [
            "2\n"
          ]
        }
      ],
      "metadata": {
        "colab": {
          "base_uri": "https://localhost:8080/"
        },
        "id": "D0l07PhbTYeo",
        "outputId": "6a93f91b-f8a5-4091-c832-77da19786575"
      }
    },
    {
      "cell_type": "code",
      "execution_count": null,
      "source": [
        "print(t)"
      ],
      "outputs": [
        {
          "output_type": "stream",
          "name": "stdout",
          "text": [
            "[[0. 0. 0. 0. 0. 1. 0. 0. 0. 0.]]\n"
          ]
        }
      ],
      "metadata": {
        "colab": {
          "base_uri": "https://localhost:8080/"
        },
        "id": "FFxRo5DVfNGq",
        "outputId": "b7fc7e76-b2d5-4c35-9a9c-c4589cb7e99e"
      }
    }
  ]
}